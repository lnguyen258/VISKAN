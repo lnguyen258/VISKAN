{
 "cells": [
  {
   "cell_type": "code",
   "execution_count": 1,
   "id": "b573924f",
   "metadata": {},
   "outputs": [],
   "source": [
    "# Default libs\n",
    "import os\n",
    "import warnings\n",
    "from pathlib import Path\n",
    "import numpy as np\n",
    "\n",
    "# Set the working dir\n",
    "PROJECT_DIR = Path().resolve()\n",
    "PROJECT_ROOT_NAME = \"vision-skanformer\"\n",
    "\n",
    "while PROJECT_DIR.name != PROJECT_ROOT_NAME and PROJECT_DIR.parent != PROJECT_DIR:\n",
    "    PROJECT_DIR = PROJECT_DIR.parent\n",
    "\n",
    "if Path().resolve() != PROJECT_DIR:\n",
    "    os.chdir(PROJECT_DIR)\n",
    "\n",
    "# Specilized modules\n",
    "from src.utils.data.transform import Resize\n",
    "from src.utils.data.dataset import Galaxy10_SDSS_Dataset\n",
    "from src.utils.data.dataloader import get_loaders\n",
    "from src.models.viskan import VisionSKANformer\n",
    "from src.engine.trainer import TrainerVISKAN\n",
    "from src.callbacks.early_stopping import EarlyStopping\n",
    "from logs.config.logging_config import setup_logger\n",
    "\n",
    "# PyTorch libraries\n",
    "import torch\n",
    "from torch import nn, optim\n",
    "from torch.optim import lr_scheduler\n",
    "\n",
    "# Settings\n",
    "warnings.filterwarnings(\"ignore\")\n",
    "np.random.seed(42)\n",
    "torch.manual_seed(42)\n",
    "torch.cuda.manual_seed_all(42)\n",
    "torch.backends.cudnn.deterministic = True\n",
    "torch.backends.cudnn.benchmark = False\n",
    "device = torch.device(\"cuda\" if torch.cuda.is_available() else \"cpu\")"
   ]
  },
  {
   "cell_type": "code",
   "execution_count": 2,
   "id": "83c842ca",
   "metadata": {},
   "outputs": [
    {
     "name": "stderr",
     "output_type": "stream",
     "text": [
      "TrainerVISKAN - INFO - Training initialized with batch_size=16, lr=0.0001, num_epochs=50, optimizer=Adam, model=VisionSKANformer\n"
     ]
    },
    {
     "data": {
      "application/vnd.jupyter.widget-view+json": {
       "model_id": "7c896f2ae0334c76ba7f7ac328934e03",
       "version_major": 2,
       "version_minor": 0
      },
      "text/plain": [
       "Training Progress:   0%|          | 0/54500 [00:00<?, ?it/s]"
      ]
     },
     "metadata": {},
     "output_type": "display_data"
    },
    {
     "name": "stderr",
     "output_type": "stream",
     "text": [
      "TrainerVISKAN - INFO - Epoch 1/50: Train Loss=1.8935, Train Acc=0.2524, Val Loss=1.6395, Val Acc=0.3802, LR=0.000100\n"
     ]
    },
    {
     "name": "stdout",
     "output_type": "stream",
     "text": [
      "Epoch 1/50: Train Loss=1.8935, Val Loss=1.6395\n",
      "Saved checkpoint at epoch 0 with val_loss 1.6394730921290794\n"
     ]
    },
    {
     "name": "stderr",
     "output_type": "stream",
     "text": [
      "TrainerVISKAN - INFO - Epoch 2/50: Train Loss=1.4718, Train Acc=0.4270, Val Loss=1.3566, Val Acc=0.4720, LR=0.000095\n"
     ]
    },
    {
     "name": "stdout",
     "output_type": "stream",
     "text": [
      "Epoch 2/50: Train Loss=1.4718, Val Loss=1.3566\n",
      "Saved checkpoint at epoch 1 with val_loss 1.356576092972243\n"
     ]
    },
    {
     "name": "stderr",
     "output_type": "stream",
     "text": [
      "TrainerVISKAN - INFO - Epoch 3/50: Train Loss=1.3161, Train Acc=0.5009, Val Loss=1.2955, Val Acc=0.5298, LR=0.000090\n"
     ]
    },
    {
     "name": "stdout",
     "output_type": "stream",
     "text": [
      "Epoch 3/50: Train Loss=1.3161, Val Loss=1.2955\n",
      "Saved checkpoint at epoch 2 with val_loss 1.295548815153628\n"
     ]
    },
    {
     "name": "stderr",
     "output_type": "stream",
     "text": [
      "TrainerVISKAN - INFO - Epoch 4/50: Train Loss=1.2213, Train Acc=0.5363, Val Loss=1.2437, Val Acc=0.5253, LR=0.000086\n"
     ]
    },
    {
     "name": "stdout",
     "output_type": "stream",
     "text": [
      "Epoch 4/50: Train Loss=1.2213, Val Loss=1.2437\n",
      "Saved checkpoint at epoch 3 with val_loss 1.2437175074446847\n"
     ]
    },
    {
     "name": "stderr",
     "output_type": "stream",
     "text": [
      "TrainerVISKAN - INFO - Epoch 5/50: Train Loss=1.1502, Train Acc=0.5659, Val Loss=1.2992, Val Acc=0.5129, LR=0.000081\n"
     ]
    },
    {
     "name": "stdout",
     "output_type": "stream",
     "text": [
      "Epoch 5/50: Train Loss=1.1502, Val Loss=1.2992\n",
      "EarlyStopping counter: 1 out of 5\n"
     ]
    },
    {
     "name": "stderr",
     "output_type": "stream",
     "text": [
      "TrainerVISKAN - INFO - Epoch 6/50: Train Loss=1.1004, Train Acc=0.5810, Val Loss=1.2839, Val Acc=0.5092, LR=0.000077\n"
     ]
    },
    {
     "name": "stdout",
     "output_type": "stream",
     "text": [
      "Epoch 6/50: Train Loss=1.1004, Val Loss=1.2839\n",
      "EarlyStopping counter: 2 out of 5\n"
     ]
    },
    {
     "name": "stderr",
     "output_type": "stream",
     "text": [
      "TrainerVISKAN - INFO - Epoch 7/50: Train Loss=1.0580, Train Acc=0.5932, Val Loss=1.3078, Val Acc=0.5193, LR=0.000074\n"
     ]
    },
    {
     "name": "stdout",
     "output_type": "stream",
     "text": [
      "Epoch 7/50: Train Loss=1.0580, Val Loss=1.3078\n",
      "EarlyStopping counter: 3 out of 5\n"
     ]
    },
    {
     "name": "stderr",
     "output_type": "stream",
     "text": [
      "TrainerVISKAN - INFO - Epoch 8/50: Train Loss=1.0374, Train Acc=0.6069, Val Loss=1.1198, Val Acc=0.5877, LR=0.000070\n"
     ]
    },
    {
     "name": "stdout",
     "output_type": "stream",
     "text": [
      "Epoch 8/50: Train Loss=1.0374, Val Loss=1.1198\n",
      "Saved checkpoint at epoch 7 with val_loss 1.1197907545349814\n"
     ]
    },
    {
     "name": "stderr",
     "output_type": "stream",
     "text": [
      "TrainerVISKAN - INFO - Epoch 9/50: Train Loss=1.0089, Train Acc=0.6145, Val Loss=1.0710, Val Acc=0.6079, LR=0.000066\n"
     ]
    },
    {
     "name": "stdout",
     "output_type": "stream",
     "text": [
      "Epoch 9/50: Train Loss=1.0089, Val Loss=1.0710\n",
      "Saved checkpoint at epoch 8 with val_loss 1.0710295206696971\n"
     ]
    },
    {
     "name": "stderr",
     "output_type": "stream",
     "text": [
      "TrainerVISKAN - INFO - Epoch 10/50: Train Loss=0.9792, Train Acc=0.6250, Val Loss=1.0487, Val Acc=0.6001, LR=0.000063\n"
     ]
    },
    {
     "name": "stdout",
     "output_type": "stream",
     "text": [
      "Epoch 10/50: Train Loss=0.9792, Val Loss=1.0487\n",
      "Saved checkpoint at epoch 9 with val_loss 1.0487378748652034\n"
     ]
    },
    {
     "name": "stderr",
     "output_type": "stream",
     "text": [
      "TrainerVISKAN - INFO - Epoch 11/50: Train Loss=0.9565, Train Acc=0.6363, Val Loss=1.2309, Val Acc=0.5519, LR=0.000060\n"
     ]
    },
    {
     "name": "stdout",
     "output_type": "stream",
     "text": [
      "Epoch 11/50: Train Loss=0.9565, Val Loss=1.2309\n",
      "EarlyStopping counter: 1 out of 5\n"
     ]
    },
    {
     "name": "stderr",
     "output_type": "stream",
     "text": [
      "TrainerVISKAN - INFO - Epoch 12/50: Train Loss=0.9338, Train Acc=0.6449, Val Loss=1.1287, Val Acc=0.5886, LR=0.000057\n"
     ]
    },
    {
     "name": "stdout",
     "output_type": "stream",
     "text": [
      "Epoch 12/50: Train Loss=0.9338, Val Loss=1.1287\n",
      "EarlyStopping counter: 2 out of 5\n"
     ]
    },
    {
     "name": "stderr",
     "output_type": "stream",
     "text": [
      "TrainerVISKAN - INFO - Epoch 13/50: Train Loss=0.9101, Train Acc=0.6544, Val Loss=1.0102, Val Acc=0.6171, LR=0.000054\n"
     ]
    },
    {
     "name": "stdout",
     "output_type": "stream",
     "text": [
      "Epoch 13/50: Train Loss=0.9101, Val Loss=1.0102\n",
      "Saved checkpoint at epoch 12 with val_loss 1.0101610193348893\n"
     ]
    },
    {
     "name": "stderr",
     "output_type": "stream",
     "text": [
      "TrainerVISKAN - INFO - Epoch 14/50: Train Loss=0.8988, Train Acc=0.6634, Val Loss=0.9253, Val Acc=0.6543, LR=0.000051\n"
     ]
    },
    {
     "name": "stdout",
     "output_type": "stream",
     "text": [
      "Epoch 14/50: Train Loss=0.8988, Val Loss=0.9253\n",
      "Saved checkpoint at epoch 13 with val_loss 0.9252830495300153\n"
     ]
    },
    {
     "name": "stderr",
     "output_type": "stream",
     "text": [
      "TrainerVISKAN - INFO - Epoch 15/50: Train Loss=0.8805, Train Acc=0.6674, Val Loss=0.9498, Val Acc=0.6414, LR=0.000049\n"
     ]
    },
    {
     "name": "stdout",
     "output_type": "stream",
     "text": [
      "Epoch 15/50: Train Loss=0.8805, Val Loss=0.9498\n",
      "EarlyStopping counter: 1 out of 5\n"
     ]
    },
    {
     "name": "stderr",
     "output_type": "stream",
     "text": [
      "TrainerVISKAN - INFO - Epoch 16/50: Train Loss=0.8732, Train Acc=0.6711, Val Loss=1.1103, Val Acc=0.5854, LR=0.000046\n"
     ]
    },
    {
     "name": "stdout",
     "output_type": "stream",
     "text": [
      "Epoch 16/50: Train Loss=0.8732, Val Loss=1.1103\n",
      "EarlyStopping counter: 2 out of 5\n"
     ]
    },
    {
     "name": "stderr",
     "output_type": "stream",
     "text": [
      "TrainerVISKAN - INFO - Epoch 17/50: Train Loss=0.8694, Train Acc=0.6739, Val Loss=0.9889, Val Acc=0.6180, LR=0.000044\n"
     ]
    },
    {
     "name": "stdout",
     "output_type": "stream",
     "text": [
      "Epoch 17/50: Train Loss=0.8694, Val Loss=0.9889\n",
      "EarlyStopping counter: 3 out of 5\n"
     ]
    },
    {
     "name": "stderr",
     "output_type": "stream",
     "text": [
      "TrainerVISKAN - INFO - Epoch 18/50: Train Loss=0.8423, Train Acc=0.6836, Val Loss=1.0849, Val Acc=0.5946, LR=0.000042\n"
     ]
    },
    {
     "name": "stdout",
     "output_type": "stream",
     "text": [
      "Epoch 18/50: Train Loss=0.8423, Val Loss=1.0849\n",
      "EarlyStopping counter: 4 out of 5\n"
     ]
    },
    {
     "name": "stderr",
     "output_type": "stream",
     "text": [
      "TrainerVISKAN - INFO - Epoch 19/50: Train Loss=0.8266, Train Acc=0.6891, Val Loss=0.9963, Val Acc=0.6368, LR=0.000040\n",
      "TrainerVISKAN - INFO - Early stopping triggered\n"
     ]
    },
    {
     "name": "stdout",
     "output_type": "stream",
     "text": [
      "Epoch 19/50: Train Loss=0.8266, Val Loss=0.9963\n",
      "EarlyStopping counter: 5 out of 5\n"
     ]
    },
    {
     "name": "stderr",
     "output_type": "stream",
     "text": [
      "TrainerVISKAN - INFO - Test results - Loss: 0.9820, Accuracy: 0.6397\n"
     ]
    },
    {
     "name": "stdout",
     "output_type": "stream",
     "text": [
      "Test Loss: 0.9820, Test Acc: 0.6397\n"
     ]
    }
   ],
   "source": [
    "batch_size = 16\n",
    "split_ratios = [0.8, 0.1, 0.1]\n",
    "lr = 0.0001\n",
    "image_size = 64\n",
    "num_epochs = 50\n",
    "patience = 5\n",
    "\n",
    "transform = Resize(image_size)\n",
    "dataset = Galaxy10_SDSS_Dataset('data/Galaxy10.h5', transform)\n",
    "train_loader, val_loader, test_loader = get_loaders(dataset, batch_size, split_ratios)\n",
    "\n",
    "model = VisionSKANformer(image_size=image_size, patch_size=4).to(device)\n",
    "criterion = nn.CrossEntropyLoss().to(device)\n",
    "optimizer = optim.Adam(model.parameters(), lr=lr)\n",
    "scheduler = lr_scheduler.ExponentialLR(optimizer=optimizer, gamma=0.95)\n",
    "logger = setup_logger(logger_name='TrainerVISKAN', log_file='logs/logging/training_01.log')\n",
    "callback = EarlyStopping(patience=patience, verbose=True)\n",
    "\n",
    "trainer = TrainerVISKAN(train_loader, \n",
    "                        val_loader, \n",
    "                        test_loader, \n",
    "                        model, \n",
    "                        criterion, \n",
    "                        optimizer, \n",
    "                        scheduler, \n",
    "                        lr, \n",
    "                        logger,\n",
    "                        image_size,\n",
    "                        batch_size,\n",
    "                        num_epochs,\n",
    "                        callback,\n",
    "                        patience\n",
    "                        )\n",
    "\n",
    "trainer.train()"
   ]
  }
 ],
 "metadata": {
  "kernelspec": {
   "display_name": "venv",
   "language": "python",
   "name": "python3"
  },
  "language_info": {
   "codemirror_mode": {
    "name": "ipython",
    "version": 3
   },
   "file_extension": ".py",
   "mimetype": "text/x-python",
   "name": "python",
   "nbconvert_exporter": "python",
   "pygments_lexer": "ipython3",
   "version": "3.13.7"
  }
 },
 "nbformat": 4,
 "nbformat_minor": 5
}
