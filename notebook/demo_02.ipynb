{
 "cells": [
  {
   "cell_type": "code",
   "execution_count": 1,
   "id": "5877c124",
   "metadata": {},
   "outputs": [],
   "source": [
    "# Default libs\n",
    "import os\n",
    "import warnings\n",
    "from pathlib import Path\n",
    "import numpy as np\n",
    "\n",
    "# Set the working dir\n",
    "PROJECT_DIR = Path().resolve()\n",
    "PROJECT_ROOT_NAME = \"vision-skanformer\"\n",
    "\n",
    "while PROJECT_DIR.name != PROJECT_ROOT_NAME and PROJECT_DIR.parent != PROJECT_DIR:\n",
    "    PROJECT_DIR = PROJECT_DIR.parent\n",
    "\n",
    "if Path().resolve() != PROJECT_DIR:\n",
    "    os.chdir(PROJECT_DIR)\n",
    "\n",
    "# Specilized modules\n",
    "from src.utils.data.transform import Resize\n",
    "from src.utils.data.dataset import Galaxy10_SDSS_Dataset\n",
    "from src.utils.data.dataloader import get_loaders\n",
    "from src.models.cnn import SimpleCNN\n",
    "from src.engine.trainer import TrainerVISKAN\n",
    "from src.callbacks.early_stopping import EarlyStopping\n",
    "from logs.config.logging_config import setup_logger\n",
    "\n",
    "# PyTorch libraries\n",
    "import torch\n",
    "from torch import nn, optim\n",
    "from torch.optim import lr_scheduler\n",
    "\n",
    "# Settings\n",
    "warnings.filterwarnings(\"ignore\")\n",
    "np.random.seed(42)\n",
    "torch.manual_seed(42)\n",
    "torch.cuda.manual_seed_all(42)\n",
    "torch.backends.cudnn.deterministic = True\n",
    "torch.backends.cudnn.benchmark = False\n",
    "device = torch.device(\"cuda\" if torch.cuda.is_available() else \"cpu\")"
   ]
  },
  {
   "cell_type": "code",
   "execution_count": 2,
   "id": "3019f58b",
   "metadata": {},
   "outputs": [
    {
     "name": "stderr",
     "output_type": "stream",
     "text": [
      "TrainerVISKAN - INFO - Training initialized with batch_size=16, lr=0.0001, num_epochs=50, optimizer=Adam, model=SimpleCNN\n"
     ]
    },
    {
     "data": {
      "application/vnd.jupyter.widget-view+json": {
       "model_id": "18b6446f013244038de0b58ee5d6f5d9",
       "version_major": 2,
       "version_minor": 0
      },
      "text/plain": [
       "Training Progress:   0%|          | 0/54500 [00:00<?, ?it/s]"
      ]
     },
     "metadata": {},
     "output_type": "display_data"
    },
    {
     "name": "stderr",
     "output_type": "stream",
     "text": [
      "TrainerVISKAN - INFO - Epoch 1/50: Train Loss=1.3444, Train Acc=0.4888, Val Loss=1.3350, Val Acc=0.4660, LR=0.000100\n"
     ]
    },
    {
     "name": "stdout",
     "output_type": "stream",
     "text": [
      "Epoch 1/50: Train Loss=1.3444, Val Loss=1.3350\n",
      "Saved checkpoint at epoch 0 with val_loss 1.335035256446229\n"
     ]
    },
    {
     "name": "stderr",
     "output_type": "stream",
     "text": [
      "TrainerVISKAN - INFO - Epoch 2/50: Train Loss=1.0295, Train Acc=0.6043, Val Loss=1.1022, Val Acc=0.5542, LR=0.000097\n"
     ]
    },
    {
     "name": "stdout",
     "output_type": "stream",
     "text": [
      "Epoch 2/50: Train Loss=1.0295, Val Loss=1.1022\n",
      "Saved checkpoint at epoch 1 with val_loss 1.1022454484873019\n"
     ]
    },
    {
     "name": "stderr",
     "output_type": "stream",
     "text": [
      "TrainerVISKAN - INFO - Epoch 3/50: Train Loss=0.8739, Train Acc=0.6753, Val Loss=0.9939, Val Acc=0.6001, LR=0.000094\n"
     ]
    },
    {
     "name": "stdout",
     "output_type": "stream",
     "text": [
      "Epoch 3/50: Train Loss=0.8739, Val Loss=0.9939\n",
      "Saved checkpoint at epoch 2 with val_loss 0.9939498108827926\n"
     ]
    },
    {
     "name": "stderr",
     "output_type": "stream",
     "text": [
      "TrainerVISKAN - INFO - Epoch 4/50: Train Loss=0.7630, Train Acc=0.7199, Val Loss=0.9269, Val Acc=0.6579, LR=0.000091\n"
     ]
    },
    {
     "name": "stdout",
     "output_type": "stream",
     "text": [
      "Epoch 4/50: Train Loss=0.7630, Val Loss=0.9269\n",
      "Saved checkpoint at epoch 3 with val_loss 0.9268960190870217\n"
     ]
    },
    {
     "name": "stderr",
     "output_type": "stream",
     "text": [
      "TrainerVISKAN - INFO - Epoch 5/50: Train Loss=0.6830, Train Acc=0.7482, Val Loss=0.8469, Val Acc=0.6910, LR=0.000089\n"
     ]
    },
    {
     "name": "stdout",
     "output_type": "stream",
     "text": [
      "Epoch 5/50: Train Loss=0.6830, Val Loss=0.8469\n",
      "Saved checkpoint at epoch 4 with val_loss 0.8469180003342222\n"
     ]
    },
    {
     "name": "stderr",
     "output_type": "stream",
     "text": [
      "TrainerVISKAN - INFO - Epoch 6/50: Train Loss=0.6185, Train Acc=0.7765, Val Loss=0.8017, Val Acc=0.7043, LR=0.000086\n"
     ]
    },
    {
     "name": "stdout",
     "output_type": "stream",
     "text": [
      "Epoch 6/50: Train Loss=0.6185, Val Loss=0.8017\n",
      "Saved checkpoint at epoch 5 with val_loss 0.8016817015830917\n"
     ]
    },
    {
     "name": "stderr",
     "output_type": "stream",
     "text": [
      "TrainerVISKAN - INFO - Epoch 7/50: Train Loss=0.5600, Train Acc=0.7944, Val Loss=0.7856, Val Acc=0.7094, LR=0.000083\n"
     ]
    },
    {
     "name": "stdout",
     "output_type": "stream",
     "text": [
      "Epoch 7/50: Train Loss=0.5600, Val Loss=0.7856\n",
      "Saved checkpoint at epoch 6 with val_loss 0.7855979850031675\n"
     ]
    },
    {
     "name": "stderr",
     "output_type": "stream",
     "text": [
      "TrainerVISKAN - INFO - Epoch 8/50: Train Loss=0.5322, Train Acc=0.8094, Val Loss=0.7717, Val Acc=0.7080, LR=0.000081\n"
     ]
    },
    {
     "name": "stdout",
     "output_type": "stream",
     "text": [
      "Epoch 8/50: Train Loss=0.5322, Val Loss=0.7717\n",
      "Saved checkpoint at epoch 7 with val_loss 0.7716881121321486\n"
     ]
    },
    {
     "name": "stderr",
     "output_type": "stream",
     "text": [
      "TrainerVISKAN - INFO - Epoch 9/50: Train Loss=0.4736, Train Acc=0.8291, Val Loss=0.7491, Val Acc=0.7296, LR=0.000078\n"
     ]
    },
    {
     "name": "stdout",
     "output_type": "stream",
     "text": [
      "Epoch 9/50: Train Loss=0.4736, Val Loss=0.7491\n",
      "Saved checkpoint at epoch 8 with val_loss 0.7490994857745613\n"
     ]
    },
    {
     "name": "stderr",
     "output_type": "stream",
     "text": [
      "TrainerVISKAN - INFO - Epoch 10/50: Train Loss=0.4336, Train Acc=0.8478, Val Loss=0.7348, Val Acc=0.7332, LR=0.000076\n"
     ]
    },
    {
     "name": "stdout",
     "output_type": "stream",
     "text": [
      "Epoch 10/50: Train Loss=0.4336, Val Loss=0.7348\n",
      "Saved checkpoint at epoch 9 with val_loss 0.73477883037621\n"
     ]
    },
    {
     "name": "stderr",
     "output_type": "stream",
     "text": [
      "TrainerVISKAN - INFO - Epoch 11/50: Train Loss=0.4079, Train Acc=0.8585, Val Loss=0.7612, Val Acc=0.7287, LR=0.000074\n"
     ]
    },
    {
     "name": "stdout",
     "output_type": "stream",
     "text": [
      "Epoch 11/50: Train Loss=0.4079, Val Loss=0.7612\n",
      "EarlyStopping counter: 1 out of 5\n"
     ]
    },
    {
     "name": "stderr",
     "output_type": "stream",
     "text": [
      "TrainerVISKAN - INFO - Epoch 12/50: Train Loss=0.3836, Train Acc=0.8668, Val Loss=0.7683, Val Acc=0.7231, LR=0.000072\n"
     ]
    },
    {
     "name": "stdout",
     "output_type": "stream",
     "text": [
      "Epoch 12/50: Train Loss=0.3836, Val Loss=0.7683\n",
      "EarlyStopping counter: 2 out of 5\n"
     ]
    },
    {
     "name": "stderr",
     "output_type": "stream",
     "text": [
      "TrainerVISKAN - INFO - Epoch 13/50: Train Loss=0.3633, Train Acc=0.8724, Val Loss=0.7290, Val Acc=0.7319, LR=0.000069\n"
     ]
    },
    {
     "name": "stdout",
     "output_type": "stream",
     "text": [
      "Epoch 13/50: Train Loss=0.3633, Val Loss=0.7290\n",
      "Saved checkpoint at epoch 12 with val_loss 0.7290000458366833\n"
     ]
    },
    {
     "name": "stderr",
     "output_type": "stream",
     "text": [
      "TrainerVISKAN - INFO - Epoch 14/50: Train Loss=0.3356, Train Acc=0.8825, Val Loss=0.7430, Val Acc=0.7415, LR=0.000067\n"
     ]
    },
    {
     "name": "stdout",
     "output_type": "stream",
     "text": [
      "Epoch 14/50: Train Loss=0.3356, Val Loss=0.7430\n",
      "EarlyStopping counter: 1 out of 5\n"
     ]
    },
    {
     "name": "stderr",
     "output_type": "stream",
     "text": [
      "TrainerVISKAN - INFO - Epoch 15/50: Train Loss=0.3167, Train Acc=0.8895, Val Loss=0.7736, Val Acc=0.7365, LR=0.000065\n"
     ]
    },
    {
     "name": "stdout",
     "output_type": "stream",
     "text": [
      "Epoch 15/50: Train Loss=0.3167, Val Loss=0.7736\n",
      "EarlyStopping counter: 2 out of 5\n"
     ]
    },
    {
     "name": "stderr",
     "output_type": "stream",
     "text": [
      "TrainerVISKAN - INFO - Epoch 16/50: Train Loss=0.2905, Train Acc=0.9011, Val Loss=0.7592, Val Acc=0.7415, LR=0.000063\n"
     ]
    },
    {
     "name": "stdout",
     "output_type": "stream",
     "text": [
      "Epoch 16/50: Train Loss=0.2905, Val Loss=0.7592\n",
      "EarlyStopping counter: 3 out of 5\n"
     ]
    },
    {
     "name": "stderr",
     "output_type": "stream",
     "text": [
      "TrainerVISKAN - INFO - Epoch 17/50: Train Loss=0.2783, Train Acc=0.9040, Val Loss=0.7184, Val Acc=0.7576, LR=0.000061\n"
     ]
    },
    {
     "name": "stdout",
     "output_type": "stream",
     "text": [
      "Epoch 17/50: Train Loss=0.2783, Val Loss=0.7184\n",
      "Saved checkpoint at epoch 16 with val_loss 0.7184175440855153\n"
     ]
    },
    {
     "name": "stderr",
     "output_type": "stream",
     "text": [
      "TrainerVISKAN - INFO - Epoch 18/50: Train Loss=0.2589, Train Acc=0.9107, Val Loss=0.7570, Val Acc=0.7502, LR=0.000060\n"
     ]
    },
    {
     "name": "stdout",
     "output_type": "stream",
     "text": [
      "Epoch 18/50: Train Loss=0.2589, Val Loss=0.7570\n",
      "EarlyStopping counter: 1 out of 5\n"
     ]
    },
    {
     "name": "stderr",
     "output_type": "stream",
     "text": [
      "TrainerVISKAN - INFO - Epoch 19/50: Train Loss=0.2533, Train Acc=0.9122, Val Loss=0.7024, Val Acc=0.7608, LR=0.000058\n"
     ]
    },
    {
     "name": "stdout",
     "output_type": "stream",
     "text": [
      "Epoch 19/50: Train Loss=0.2533, Val Loss=0.7024\n",
      "Saved checkpoint at epoch 18 with val_loss 0.7024269443658703\n"
     ]
    },
    {
     "name": "stderr",
     "output_type": "stream",
     "text": [
      "TrainerVISKAN - INFO - Epoch 20/50: Train Loss=0.2374, Train Acc=0.9188, Val Loss=0.7066, Val Acc=0.7553, LR=0.000056\n"
     ]
    },
    {
     "name": "stdout",
     "output_type": "stream",
     "text": [
      "Epoch 20/50: Train Loss=0.2374, Val Loss=0.7066\n",
      "EarlyStopping counter: 1 out of 5\n"
     ]
    },
    {
     "name": "stderr",
     "output_type": "stream",
     "text": [
      "TrainerVISKAN - INFO - Epoch 21/50: Train Loss=0.2226, Train Acc=0.9246, Val Loss=0.7627, Val Acc=0.7507, LR=0.000054\n"
     ]
    },
    {
     "name": "stdout",
     "output_type": "stream",
     "text": [
      "Epoch 21/50: Train Loss=0.2226, Val Loss=0.7627\n",
      "EarlyStopping counter: 2 out of 5\n"
     ]
    },
    {
     "name": "stderr",
     "output_type": "stream",
     "text": [
      "TrainerVISKAN - INFO - Epoch 22/50: Train Loss=0.2130, Train Acc=0.9297, Val Loss=0.7545, Val Acc=0.7567, LR=0.000053\n"
     ]
    },
    {
     "name": "stdout",
     "output_type": "stream",
     "text": [
      "Epoch 22/50: Train Loss=0.2130, Val Loss=0.7545\n",
      "EarlyStopping counter: 3 out of 5\n"
     ]
    },
    {
     "name": "stderr",
     "output_type": "stream",
     "text": [
      "TrainerVISKAN - INFO - Epoch 23/50: Train Loss=0.2025, Train Acc=0.9293, Val Loss=0.7836, Val Acc=0.7507, LR=0.000051\n"
     ]
    },
    {
     "name": "stdout",
     "output_type": "stream",
     "text": [
      "Epoch 23/50: Train Loss=0.2025, Val Loss=0.7836\n",
      "EarlyStopping counter: 4 out of 5\n"
     ]
    },
    {
     "name": "stderr",
     "output_type": "stream",
     "text": [
      "TrainerVISKAN - INFO - Epoch 24/50: Train Loss=0.1951, Train Acc=0.9323, Val Loss=0.7742, Val Acc=0.7493, LR=0.000050\n",
      "TrainerVISKAN - INFO - Early stopping triggered\n"
     ]
    },
    {
     "name": "stdout",
     "output_type": "stream",
     "text": [
      "Epoch 24/50: Train Loss=0.1951, Val Loss=0.7742\n",
      "EarlyStopping counter: 5 out of 5\n"
     ]
    },
    {
     "name": "stderr",
     "output_type": "stream",
     "text": [
      "TrainerVISKAN - INFO - Test results - Loss: 0.7960, Accuracy: 0.7402\n"
     ]
    },
    {
     "name": "stdout",
     "output_type": "stream",
     "text": [
      "Test Loss: 0.7960, Test Acc: 0.7402\n"
     ]
    }
   ],
   "source": [
    "batch_size = 16\n",
    "split_ratios = [0.8, 0.1, 0.1]\n",
    "lr = 0.0001\n",
    "image_size = 64\n",
    "num_epochs = 50\n",
    "patience = 5\n",
    "\n",
    "transform = Resize(image_size)\n",
    "dataset = Galaxy10_SDSS_Dataset('data/Galaxy10.h5', transform)\n",
    "train_loader, val_loader, test_loader = get_loaders(dataset, batch_size, split_ratios)\n",
    "\n",
    "model = SimpleCNN(image_size=image_size).to(device)\n",
    "criterion = nn.CrossEntropyLoss().to(device)\n",
    "optimizer = optim.Adam(model.parameters(), lr=lr)\n",
    "scheduler = lr_scheduler.ExponentialLR(optimizer=optimizer, gamma=0.97)\n",
    "logger = setup_logger(logger_name='TrainerVISKAN', log_file='logs/logging/training_01.log')\n",
    "callback = EarlyStopping(patience=patience, verbose=True)\n",
    "\n",
    "trainer = TrainerVISKAN(train_loader, \n",
    "                        val_loader, \n",
    "                        test_loader, \n",
    "                        model, \n",
    "                        criterion, \n",
    "                        optimizer, \n",
    "                        scheduler, \n",
    "                        lr, \n",
    "                        logger,\n",
    "                        image_size,\n",
    "                        batch_size,\n",
    "                        num_epochs,\n",
    "                        callback,\n",
    "                        patience\n",
    "                        )\n",
    "\n",
    "trainer.train()"
   ]
  }
 ],
 "metadata": {
  "kernelspec": {
   "display_name": "venv",
   "language": "python",
   "name": "python3"
  },
  "language_info": {
   "codemirror_mode": {
    "name": "ipython",
    "version": 3
   },
   "file_extension": ".py",
   "mimetype": "text/x-python",
   "name": "python",
   "nbconvert_exporter": "python",
   "pygments_lexer": "ipython3",
   "version": "3.13.7"
  }
 },
 "nbformat": 4,
 "nbformat_minor": 5
}
